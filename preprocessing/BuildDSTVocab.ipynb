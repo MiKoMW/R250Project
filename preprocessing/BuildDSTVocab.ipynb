{
 "cells": [
  {
   "cell_type": "code",
   "execution_count": 1,
   "id": "assisted-boring",
   "metadata": {},
   "outputs": [],
   "source": [
    "import json\n",
    "from nltk.tokenize import sent_tokenize, word_tokenize"
   ]
  },
  {
   "cell_type": "code",
   "execution_count": 4,
   "id": "lesser-rating",
   "metadata": {},
   "outputs": [],
   "source": [
    "knowledge_path = \"/home/hu/Desktop/alexa-with-dstc9-track1-dataset/data_eval/knowledge.json\"\n",
    "train_logs_path = \"/home/hu/Desktop/alexa-with-dstc9-track1-dataset/data/train/logs.json\"\n",
    "train_labels_path = \"/home/hu/Desktop/alexa-with-dstc9-track1-dataset/data/train/labels.json\"\n",
    "\n",
    "val_logs_path = \"/home/hu/Desktop/alexa-with-dstc9-track1-dataset/data/val/logs.json\"\n",
    "val_labels_path = \"/home/hu/Desktop/alexa-with-dstc9-track1-dataset/data/val/labels.json\"\n",
    "\n",
    "test_logs_path = \"/home/hu/Desktop/alexa-with-dstc9-track1-dataset/data/test/logs.json\"\n",
    "test_labels_path = \"/home/hu/Desktop/alexa-with-dstc9-track1-dataset/data/test/labels.json\"\n",
    "\n",
    "\n",
    "\n",
    "# train_logs_path = \"/home/hu/Desktop/alexa-with-dstc9-track1-dataset/unseen/train/logs.json\"\n",
    "# train_labels_path = \"/home/hu/Desktop/alexa-with-dstc9-track1-dataset/unseen/train/labels.json\"\n",
    "\n",
    "# val_logs_path = \"/home/hu/Desktop/alexa-with-dstc9-track1-dataset/unseen/val/logs.json\"\n",
    "# val_labels_path = \"/home/hu/Desktop/alexa-with-dstc9-track1-dataset/unseen/val/labels.json\"\n",
    "\n",
    "# test_logs_path = val_logs_path\n",
    "# test_labels_path = val_labels_path\n",
    "\n",
    "\n",
    "\n",
    "with open(knowledge_path, 'r') as myfile:\n",
    "    data=myfile.read()\n",
    "knowledge = json.loads(data)\n",
    "\n",
    "with open(train_logs_path, 'r') as myfile:\n",
    "    data=myfile.read()\n",
    "train_logs = json.loads(data)\n",
    "\n",
    "with open(train_labels_path, 'r') as myfile:\n",
    "    data=myfile.read()\n",
    "train_label = json.loads(data)\n",
    "\n",
    "with open(val_logs_path, 'r') as myfile:\n",
    "    data=myfile.read()\n",
    "val_logs = json.loads(data)\n",
    "\n",
    "with open(val_labels_path, 'r') as myfile:\n",
    "    data=myfile.read()\n",
    "val_label = json.loads(data)\n",
    "\n",
    "with open(test_logs_path, 'r') as myfile:\n",
    "    data=myfile.read()\n",
    "test_logs = json.loads(data)\n",
    "\n",
    "with open(test_labels_path, 'r') as myfile:\n",
    "    data=myfile.read()\n",
    "test_label = json.loads(data)\n"
   ]
  },
  {
   "cell_type": "code",
   "execution_count": 5,
   "id": "increasing-journalism",
   "metadata": {},
   "outputs": [
    {
     "name": "stdout",
     "output_type": "stream",
     "text": [
      "71348\n",
      "71348\n",
      "9663\n",
      "9663\n",
      "4181\n",
      "4181\n"
     ]
    }
   ],
   "source": [
    "print(len(train_logs))\n",
    "print(len(train_label))\n",
    "print(len(val_logs))\n",
    "print(len(val_label))\n",
    "print(len(test_logs))\n",
    "print(len(test_label))\n"
   ]
  },
  {
   "cell_type": "code",
   "execution_count": 6,
   "id": "prerequisite-control",
   "metadata": {},
   "outputs": [],
   "source": [
    "train_utts = list(map(lambda item : item[-1][\"text\"], train_logs))\n",
    "val_utts = list(map(lambda item : item[-1][\"text\"], val_logs))\n",
    "test_utts = list(map(lambda item : item[-1][\"text\"], test_logs))"
   ]
  },
  {
   "cell_type": "code",
   "execution_count": 43,
   "id": "friendly-divorce",
   "metadata": {},
   "outputs": [
    {
     "data": {
      "text/plain": [
       "{'name': 'ACORN GUEST HOUSE',\n",
       " 'docs': {'0': {'title': 'Are pets welcomed at this property?',\n",
       "   'body': 'People cannot bring pets to Acorn Guest House.'},\n",
       "  '1': {'title': 'Do you have parking available for my car?',\n",
       "   'body': 'There is no parking available at Acorn Guest House.'},\n",
       "  '2': {'title': 'What are your breakfast options?',\n",
       "   'body': 'Continental, vegetarian, and a full English/Irish breakfast are available at Acron Guest House.'},\n",
       "  '3': {'title': 'What age does a child need to be to stay there?',\n",
       "   'body': 'Children of any age are welcome.'},\n",
       "  '4': {'title': 'Is the hotel WiFi accessible?',\n",
       "   'body': 'Acorn guest house has free WiFi.'},\n",
       "  '5': {'title': 'Do you serve a free breakfast?',\n",
       "   'body': 'Acorn Guest House does not provide breakfast for free.'},\n",
       "  '6': {'title': 'Will I be able to request additional beds there?',\n",
       "   'body': 'You cannot ask for extra beds at the Acorn Guest House.'},\n",
       "  '7': {'title': 'Is there any smoking section at this property?',\n",
       "   'body': 'The entire property is non-smoking.'},\n",
       "  '8': {'title': 'Is there wifi available, and is it an extra charge?',\n",
       "   'body': 'The wifi is free at Acorn Guest House.'},\n",
       "  '9': {'title': 'What time is check in for Acorn Guest House?',\n",
       "   'body': 'Check in is between 2:00pm and 10:00pm.'},\n",
       "  '10': {'title': 'When is the latest I can check out?',\n",
       "   'body': 'The latest check-out time is 10:30 A.M.'},\n",
       "  '11': {'title': 'What type of credit and debit cards do you take?',\n",
       "   'body': 'All major credit cards are accepted at this hotel.'},\n",
       "  '12': {'title': 'What languages does your staff speak?',\n",
       "   'body': 'Greek, English, and Polish are spoken at the Acorn Guest House.'},\n",
       "  '13': {'title': 'Are there facility for people with disability?',\n",
       "   'body': 'The Acorn Guest House does not have any rooms with disablity access.'},\n",
       "  '14': {'title': 'Is there accessible parking available?',\n",
       "   'body': 'Acorn Guest House does not have accessible parking.'},\n",
       "  '15': {'title': 'Will there be a concierge service at Acorn Guest House?',\n",
       "   'body': 'Acorn Guest House does not offer concierge service.'},\n",
       "  '16': {'title': 'Does Acorn Guest House have a gym?',\n",
       "   'body': 'The Acorn Guest House does not have a fitness center or gym onsite.'},\n",
       "  '17': {'title': 'Will I be able to use a kitchen when I stay here?',\n",
       "   'body': 'Acorn Guest House does not offer a kitchen for its guests.'},\n",
       "  '18': {'title': 'Do you provide laundry services?',\n",
       "   'body': 'Laundry services are not provided here.'},\n",
       "  '19': {'title': 'Do you have a lift for guests?',\n",
       "   'body': 'Acorn Guest House does not have a lift.'},\n",
       "  '20': {'title': 'Are there luggage storage service?',\n",
       "   'body': 'Acorn Guest House does not offer luggage storage at their facility.'},\n",
       "  '21': {'title': 'Does this site have facility to hold banquet or meeting?',\n",
       "   'body': 'ACORN GUEST HOUSE has no meeting or banquet facilities.'},\n",
       "  '22': {'title': 'What is the cost of parking at the site?',\n",
       "   'body': 'There is no charge for parking at ACORN GUEST HOUSE'},\n",
       "  '23': {'title': 'Do I need a parking reservation?',\n",
       "   'body': 'Parking reservations are not required at the Acorn Guest House.'},\n",
       "  '24': {'title': 'Is there an onsite swimming pool at Acorn Guest House?',\n",
       "   'body': 'There is no swimming pool onsite at Acorn Guest House.'},\n",
       "  '25': {'title': 'Are there any restaurant?',\n",
       "   'body': 'No, there is no restaurant at Acorn Guest House.'},\n",
       "  '26': {'title': 'Do the guest rooms at Acorn Guest House have safety deposit boxes?',\n",
       "   'body': 'There are no safety deposit boxes in the rooms at Acorn Guest House.'},\n",
       "  '27': {'title': 'Does ACORN GUEST HOUSE have a spa onsite?',\n",
       "   'body': 'No, we do not have a spa onsite.'},\n",
       "  '28': {'title': 'Do you have an age restriction for check-in?',\n",
       "   'body': 'No, Acorn Guest House does not have an age restriction for check-in.'},\n",
       "  '29': {'title': 'Are there areas where people can smoke at Acorn Guest House?',\n",
       "   'body': 'No designated smoking area is available here.'},\n",
       "  '30': {'title': 'Are pets allowed at the Acorn Guest House?',\n",
       "   'body': 'Pets are not allowed at the Acorn Guest House.'},\n",
       "  '31': {'title': 'What is the security deposit amount?',\n",
       "   'body': 'A security deposit of 20 GBP per stay is required at Acorn Guest House.'},\n",
       "  '32': {'title': 'Is the front desk open 24 hours at Acorn Guest House?',\n",
       "   'body': 'The front desk is not open for 24 hours at ACORN GUEST HOUSE.'},\n",
       "  '33': {'title': 'Do you provide daily housekeeping?',\n",
       "   'body': 'Daily housekeeping is not provided here.'},\n",
       "  '34': {'title': 'Does Acorn Guest House provide dry cleaning service?',\n",
       "   'body': 'No, Acorn Guest House does not provide dry cleaning service.'},\n",
       "  '35': {'title': 'Is there room service available at Acorn Guest House?',\n",
       "   'body': 'No, there is no room service available for guests at Acorn Guest House.'},\n",
       "  '36': {'title': 'Does Acorn Guest House provide any shuttle service?',\n",
       "   'body': 'ACORN GUEST HOUSE does not provide any shuttle service.'}},\n",
       " 'city': 'Cambridge'}"
      ]
     },
     "execution_count": 43,
     "metadata": {},
     "output_type": "execute_result"
    }
   ],
   "source": [
    "knowledge[\"hotel\"][\"1\"]"
   ]
  },
  {
   "cell_type": "code",
   "execution_count": 7,
   "id": "wicked-handling",
   "metadata": {},
   "outputs": [],
   "source": [
    "train_output = []\n",
    "vocab = []\n",
    "for (utt, label) in zip(train_utts, train_label):\n",
    "#     print(label)\n",
    "    if(label[\"target\"]):\n",
    "#         print(\"D:\")\n",
    "        ksIdx = (label[\"knowledge\"][0])\n",
    "#         {'domain': 'hotel', 'entity_id': 31, 'doc_id': 10}\n",
    "        snippet = knowledge[ksIdx[\"domain\"]][str(ksIdx[\"entity_id\"])]\n",
    "        snippet = snippet[\"docs\"][str(ksIdx[\"doc_id\"])]\n",
    "        resp = (label[\"response\"])\n",
    "        \n",
    "        temp = {}\n",
    "        sent_tokenize_list = word_tokenize(utt)\n",
    "        vocab.extend(sent_tokenize_list)\n",
    "        utt = \" \".join(sent_tokenize_list)\n",
    "        temp[\"question\"] = utt\n",
    "        sent_tokenize_list = word_tokenize(resp)\n",
    "        vocab.extend(sent_tokenize_list)\n",
    "        resp = \" \".join(sent_tokenize_list)\n",
    "        temp[\"answer\"] = resp\n",
    "        sent_tokenize_list = word_tokenize(snippet[\"title\"])\n",
    "        vocab.extend(sent_tokenize_list)\n",
    "        title = \" \".join(sent_tokenize_list)\n",
    "        temp[\"title\"] = title\n",
    "        sent_tokenize_list = word_tokenize(snippet[\"body\"])\n",
    "        vocab.extend(sent_tokenize_list)\n",
    "        body = \" \".join(sent_tokenize_list)      \n",
    "        temp[\"body\"] = body\n",
    "        train_output.append(temp)\n",
    "        \n",
    "    \n",
    "        \n",
    "#         print(utt)\n",
    "\n",
    "with open('train.json', 'w') as outfile:\n",
    "    json.dump(train_output, outfile,  indent=4,)\n",
    "    "
   ]
  },
  {
   "cell_type": "code",
   "execution_count": 8,
   "id": "french-fraction",
   "metadata": {},
   "outputs": [
    {
     "data": {
      "text/plain": [
       "1053715"
      ]
     },
     "execution_count": 8,
     "metadata": {},
     "output_type": "execute_result"
    }
   ],
   "source": [
    "len(vocab)"
   ]
  },
  {
   "cell_type": "code",
   "execution_count": 9,
   "id": "stretch-chemical",
   "metadata": {},
   "outputs": [],
   "source": [
    "val_output = []\n",
    "for (utt, label) in zip(val_utts, val_label):\n",
    "#     print(label)\n",
    "    if(label[\"target\"]):\n",
    "#         print(\"D:\")\n",
    "        ksIdx = (label[\"knowledge\"][0])\n",
    "#         {'domain': 'hotel', 'entity_id': 31, 'doc_id': 10}\n",
    "        snippet = knowledge[ksIdx[\"domain\"]][str(ksIdx[\"entity_id\"])]\n",
    "        snippet = snippet[\"docs\"][str(ksIdx[\"doc_id\"])]\n",
    "        resp = (label[\"response\"])\n",
    "        \n",
    "        temp = {}\n",
    "        sent_tokenize_list = word_tokenize(utt)\n",
    "        vocab.extend(sent_tokenize_list)\n",
    "        utt = \" \".join(sent_tokenize_list)\n",
    "        temp[\"question\"] = utt\n",
    "        sent_tokenize_list = word_tokenize(resp)\n",
    "        vocab.extend(sent_tokenize_list)\n",
    "        resp = \" \".join(sent_tokenize_list)\n",
    "        temp[\"answer\"] = resp\n",
    "        sent_tokenize_list = word_tokenize(snippet[\"title\"])\n",
    "        vocab.extend(sent_tokenize_list)\n",
    "        title = \" \".join(sent_tokenize_list)\n",
    "        temp[\"title\"] = title\n",
    "        sent_tokenize_list = word_tokenize(snippet[\"body\"])\n",
    "        vocab.extend(sent_tokenize_list)\n",
    "        body = \" \".join(sent_tokenize_list)      \n",
    "        temp[\"body\"] = body\n",
    "        val_output.append(temp)\n",
    "        \n",
    "    \n",
    "        \n",
    "#         print(utt)\n",
    "\n",
    "with open('val.json', 'w') as outfile:\n",
    "    json.dump(val_output, outfile,  indent=4,)\n",
    "    "
   ]
  },
  {
   "cell_type": "code",
   "execution_count": 10,
   "id": "cleared-vehicle",
   "metadata": {},
   "outputs": [],
   "source": [
    "test_output = []\n",
    "for (utt, label) in zip(test_utts, test_label):\n",
    "#     print(label)\n",
    "    if(label[\"target\"]):\n",
    "#         print(\"D:\")\n",
    "        ksIdx = (label[\"knowledge\"][0])\n",
    "#         {'domain': 'hotel', 'entity_id': 31, 'doc_id': 10}\n",
    "        snippet = knowledge[ksIdx[\"domain\"]][str(ksIdx[\"entity_id\"])]\n",
    "        snippet = snippet[\"docs\"][str(ksIdx[\"doc_id\"])]\n",
    "        resp = (label[\"response\"])\n",
    "        \n",
    "        temp = {}\n",
    "        sent_tokenize_list = word_tokenize(utt)\n",
    "        vocab.extend(sent_tokenize_list)\n",
    "        utt = \" \".join(sent_tokenize_list)\n",
    "        temp[\"question\"] = utt\n",
    "        sent_tokenize_list = word_tokenize(resp)\n",
    "#         vocab.extend(sent_tokenize_list)\n",
    "        resp = \" \".join(sent_tokenize_list)\n",
    "        temp[\"answer\"] = resp\n",
    "        sent_tokenize_list = word_tokenize(snippet[\"title\"])\n",
    "#         vocab.extend(sent_tokenize_list)\n",
    "        title = \" \".join(sent_tokenize_list)\n",
    "        temp[\"title\"] = title\n",
    "        sent_tokenize_list = word_tokenize(snippet[\"body\"])\n",
    "        vocab.extend(sent_tokenize_list)\n",
    "        body = \" \".join(sent_tokenize_list)      \n",
    "        temp[\"body\"] = body\n",
    "        test_output.append(temp)\n",
    "        \n",
    "    \n",
    "        \n",
    "#         print(utt)\n",
    "\n",
    "with open('test.json', 'w') as outfile:\n",
    "    json.dump(test_output, outfile,  indent=4,)\n",
    "    "
   ]
  },
  {
   "cell_type": "code",
   "execution_count": 11,
   "id": "affiliated-wheat",
   "metadata": {},
   "outputs": [
    {
     "data": {
      "text/plain": [
       "1248012"
      ]
     },
     "execution_count": 11,
     "metadata": {},
     "output_type": "execute_result"
    }
   ],
   "source": [
    "len(vocab)"
   ]
  },
  {
   "cell_type": "code",
   "execution_count": 12,
   "id": "continent-board",
   "metadata": {},
   "outputs": [],
   "source": [
    "from collections import Counter\n",
    "count = Counter(vocab)\n",
    "count = sorted(count.items(), key=lambda pair: pair[1], reverse=True)"
   ]
  },
  {
   "cell_type": "code",
   "execution_count": 13,
   "id": "monthly-morgan",
   "metadata": {},
   "outputs": [
    {
     "data": {
      "text/plain": [
       "5509"
      ]
     },
     "execution_count": 13,
     "metadata": {},
     "output_type": "execute_result"
    }
   ],
   "source": [
    "len(count)"
   ]
  },
  {
   "cell_type": "code",
   "execution_count": 14,
   "id": "right-syntax",
   "metadata": {},
   "outputs": [],
   "source": [
    "temp_out = list(map(lambda x : str(x[0]) + \"\\t\" + str(x[1]), count))\n"
   ]
  },
  {
   "cell_type": "code",
   "execution_count": 15,
   "id": "internal-analysis",
   "metadata": {},
   "outputs": [
    {
     "name": "stdout",
     "output_type": "stream",
     "text": [
      "5509\n"
     ]
    }
   ],
   "source": [
    "print(len(temp_out))"
   ]
  },
  {
   "cell_type": "code",
   "execution_count": 106,
   "id": "patent-voltage",
   "metadata": {},
   "outputs": [],
   "source": [
    "ans = \"\\n\".join(temp_out)\n",
    "\n",
    "f = open(\"./dstc9_vocab.txt\", \"w\")\n",
    "f.write(ans)\n",
    "f.close()\n"
   ]
  },
  {
   "cell_type": "code",
   "execution_count": 19,
   "id": "human-sequence",
   "metadata": {},
   "outputs": [
    {
     "name": "stdout",
     "output_type": "stream",
     "text": [
      "23838\n"
     ]
    }
   ],
   "source": [
    "print(len(test_output) + len(train_output) + len(val_output))"
   ]
  },
  {
   "cell_type": "code",
   "execution_count": 20,
   "id": "resident-gossip",
   "metadata": {},
   "outputs": [
    {
     "data": {
      "text/plain": [
       "85192"
      ]
     },
     "execution_count": 20,
     "metadata": {},
     "output_type": "execute_result"
    }
   ],
   "source": [
    "71348 +9663 + 4181"
   ]
  },
  {
   "cell_type": "code",
   "execution_count": null,
   "id": "moderate-calculation",
   "metadata": {},
   "outputs": [],
   "source": []
  },
  {
   "cell_type": "code",
   "execution_count": null,
   "id": "infectious-chaos",
   "metadata": {},
   "outputs": [],
   "source": []
  }
 ],
 "metadata": {
  "kernelspec": {
   "display_name": "Python 3",
   "language": "python",
   "name": "python3"
  },
  "language_info": {
   "codemirror_mode": {
    "name": "ipython",
    "version": 3
   },
   "file_extension": ".py",
   "mimetype": "text/x-python",
   "name": "python",
   "nbconvert_exporter": "python",
   "pygments_lexer": "ipython3",
   "version": "3.6.13"
  }
 },
 "nbformat": 4,
 "nbformat_minor": 5
}